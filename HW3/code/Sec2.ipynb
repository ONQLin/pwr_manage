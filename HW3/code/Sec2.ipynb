{
 "cells": [
  {
   "cell_type": "code",
   "execution_count": null,
   "metadata": {},
   "outputs": [],
   "source": [
    "import matplotlib.pyplot as plt\n",
    "import pandas as pd\n",
    "import numpy as np"
   ]
  },
  {
   "cell_type": "code",
   "execution_count": null,
   "metadata": {},
   "outputs": [],
   "source": [
    "# ----- Q1:1NN ----- #\n",
    "data = pd.read_table('../data/D2z.txt',sep = ' ', header=None)"
   ]
  },
  {
   "cell_type": "code",
   "execution_count": null,
   "metadata": {},
   "outputs": [],
   "source": [
    "\n",
    "x0grid = np.arange(-2,2.1,0.1)\n",
    "x1grid = np.arange(-2,2.1,0.1)\n",
    "xx,yy = np.meshgrid(x0grid, x1grid)\n",
    "x0, x1 = xx.flatten().reshape((len(xx)*xx.shape[1], 1)), yy.flatten().reshape((len(xx)*xx.shape[1], 1))\n",
    "grid = pd.DataFrame(np.hstack((x0,x1)))\n",
    "y_hat = []\n",
    "for i in range(grid.shape[0]):\n",
    "    tmp = data.iloc[:,:2]-grid.iloc[i,:]\n",
    "    tmp = np.sqrt((tmp**2).sum(axis=1))\n",
    "    tmp = tmp.idxmin()\n",
    "    y_hat.append(data.loc[tmp][2])\n",
    "grid[2] = y_hat\n"
   ]
  },
  {
   "cell_type": "code",
   "execution_count": null,
   "metadata": {},
   "outputs": [],
   "source": [
    "plt.figure(1)\n",
    "plt.scatter(grid.iloc[:,0][grid[2]==1], grid.iloc[:,1][grid[2]==1], s=1.5, c='red')\n",
    "plt.scatter(grid.iloc[:,0][grid[2]==0], grid.iloc[:,1][grid[2]==0], s=1.5, c='blue')\n",
    "plt.scatter(data.iloc[:,0][data[2]==1], data.iloc[:,1][data[2]==1],marker='+',linewidths=1 , c='black')\n",
    "plt.scatter(data.iloc[:,0][data[2]==0], data.iloc[:,1][data[2]==0],marker='o',s=15,linewidths=1, facecolors='none',edgecolors='black')\n",
    "\n",
    "plt.xlim(-2.1,2.1)\n",
    "plt.ylim(-2.1,2.1)\n",
    "\n",
    "# ----- Q1:1NN ends ----- #"
   ]
  },
  {
   "cell_type": "code",
   "execution_count": null,
   "metadata": {},
   "outputs": [],
   "source": [
    "emails = pd.read_csv('../data/emails.csv', index_col=0)\n",
    "class report:\n",
    "  def __init__(self):\n",
    "    self.accuracy = 0\n",
    "    \n",
    "\n",
    "def report_knn(y_hat,y):      # also can be applied in logistic after classify to 1 0\n",
    "    tp = len(y_hat[(y==1)&(y_hat==1)])\n",
    "    tn = len(y_hat[(y==0)&(y_hat==0)])\n",
    "    fp = len(y_hat[(y==0)&(y_hat==1)])\n",
    "    fn = len(y_hat[(y==1)&(y_hat==0)])\n",
    "    rpt = report()\n",
    "    rpt.accuracy = (float)((tp+tn)/(tp+tn+fp+fn))\n",
    "    rpt.precision = (float)(tp/(tp+fp))\n",
    "    rpt.recall = (float)(tp/(tp+fn))\n",
    "    rpt.fpr = (float)(fp/(tn+fp))\n",
    "    print(tp,tn,fp,fn)\n",
    "    return rpt\n",
    "\n",
    "def predict_knn(x_train,x,k,y_train,mode=0):\n",
    "    d = np.square(((x_train-x)**2).sum(1))\n",
    "    min_idx = d.sort_values()     #sort the distance with shortest at head\n",
    "    nearest = y_train.loc[min_idx[:k].index]    #select k nearest email label by index\n",
    "    if mode==0:   #classification\n",
    "      dist = nearest.value_counts()             #count the most popular label\n",
    "      return dist.index[0][0]                   # the top one is the most popular label (e.g.k=3 1:2 0:1 ---> get 1)\n",
    "    else:         #regression\n",
    "      return (float)(nearest.sum()/nearest.shape[0])"
   ]
  },
  {
   "cell_type": "code",
   "execution_count": null,
   "metadata": {},
   "outputs": [],
   "source": [
    "# ----- Q2:1NN Folder1 ----- #\n",
    "x_train = emails.iloc[1000:,:-1]\n",
    "x_test = emails.iloc[:1000,:-1]\n",
    "y_train = emails.iloc[1000:,-1:]\n",
    "y_test = emails.iloc[:1000,-1:]\n",
    "\n",
    "y_hat = []\n",
    "for i in range(y_test.shape[0]):\n",
    "    y_hat.append(predict_knn(x_train,x_test.iloc[i,:],1,y_train))\n",
    "y_hat = np.array(y_hat)\n",
    "y_hat = y_hat.reshape(len(y_hat),1)\n",
    "report1 = report_knn(y_hat,y_test)\n",
    "print(report1.accuracy,report1.precision,report1.recall)\n"
   ]
  },
  {
   "cell_type": "code",
   "execution_count": null,
   "metadata": {},
   "outputs": [],
   "source": [
    "# ----- Q2:1NN Folder2 ----- #\n",
    "x_train = pd.concat([emails.iloc[:1000,:-1],emails.iloc[2000:,:-1]])\n",
    "x_test = emails.iloc[1000:2000,:-1]\n",
    "y_train = pd.concat([emails.iloc[:1000,-1:],emails.iloc[2000:,-1:]])\n",
    "y_test = emails.iloc[1000:2000,-1:]\n",
    "\n",
    "y_hat = []\n",
    "for i in range(y_test.shape[0]):\n",
    "    y_hat.append(predict_knn(x_train,x_test.iloc[i,:],1,y_train))\n",
    "y_hat = np.array(y_hat)\n",
    "y_hat = y_hat.reshape(len(y_hat),1)\n",
    "report1 = report_knn(y_hat,y_test)\n",
    "print(report1.accuracy,report1.precision,report1.recall)"
   ]
  },
  {
   "cell_type": "code",
   "execution_count": null,
   "metadata": {},
   "outputs": [],
   "source": [
    "# ----- Q2:1NN Folder3 ----- #\n",
    "x_train = pd.concat([emails.iloc[:2000,:-1],emails.iloc[3000:,:-1]])\n",
    "x_test = emails.iloc[2000:3000,:-1]\n",
    "y_train = pd.concat([emails.iloc[:2000,-1:],emails.iloc[3000:,-1:]])\n",
    "y_test = emails.iloc[2000:3000,-1:]\n",
    "\n",
    "y_hat = []\n",
    "for i in range(y_test.shape[0]):\n",
    "    y_hat.append(predict_knn(x_train,x_test.iloc[i,:],1,y_train))\n",
    "y_hat = np.array(y_hat)\n",
    "y_hat = y_hat.reshape(len(y_hat),1)\n",
    "report1 = report_knn(y_hat,y_test)\n",
    "print(report1.accuracy,report1.precision,report1.recall)"
   ]
  },
  {
   "cell_type": "code",
   "execution_count": null,
   "metadata": {},
   "outputs": [],
   "source": [
    "# ----- Q2:1NN Folder4 ----- #\n",
    "x_train = pd.concat([emails.iloc[:3000,:-1],emails.iloc[4000:,:-1]])\n",
    "x_test = emails.iloc[3000:4000,:-1]\n",
    "y_train = pd.concat([emails.iloc[:3000,-1:],emails.iloc[4000:,-1:]])\n",
    "y_test = emails.iloc[3000:4000,-1:]\n",
    "\n",
    "y_hat = []\n",
    "for i in range(y_test.shape[0]):\n",
    "    y_hat.append(predict_knn(x_train,x_test.iloc[i,:],1,y_train))\n",
    "y_hat = np.array(y_hat)\n",
    "y_hat = y_hat.reshape(len(y_hat),1)\n",
    "report1 = report_knn(y_hat,y_test)\n",
    "print(report1.accuracy,report1.precision,report1.recall)"
   ]
  },
  {
   "cell_type": "code",
   "execution_count": null,
   "metadata": {},
   "outputs": [],
   "source": [
    "# ----- Q2:1NN Folder5 ----- #\n",
    "x_train = emails.iloc[:4000,:-1]\n",
    "x_test = emails.iloc[4000:,:-1]\n",
    "y_train = emails.iloc[:4000,-1:]\n",
    "y_test = emails.iloc[4000:,-1:]\n",
    "\n",
    "y_hat = []\n",
    "for i in range(y_test.shape[0]):\n",
    "    y_hat.append(predict_knn(x_train,x_test.iloc[i,:],1,y_train))\n",
    "y_hat = np.array(y_hat)\n",
    "y_hat = y_hat.reshape(len(y_hat),1)\n",
    "report1 = report_knn(y_hat,y_test)\n",
    "print(report1.accuracy,report1.precision,report1.recall)\n",
    "# ----- Q2:ends ----- #"
   ]
  },
  {
   "cell_type": "code",
   "execution_count": null,
   "metadata": {},
   "outputs": [],
   "source": [
    "# ----- Q3:emails logistic regression ----- #\n",
    "\n",
    "def sigmoid(x):\n",
    "    return 1/(1+np.exp(-x))\n",
    "\n",
    "def forward(x, y, w):    \n",
    "    y_prob = sigmoid(np.dot(x, w.T))    \n",
    "    L = (-y*np.log(y_prob)-(1-y)*np.log(1-y_prob)).sum()[0]/x.shape[0]      #loss func for bin class\n",
    "    return y_prob, L\n",
    "\n",
    "def backward(y_hat, y, x):      #delta theta\n",
    "    dw = 2*np.dot((y_hat-y).T, x)/x.shape[0]\n",
    "    return dw\n",
    "\n",
    "def train(x, y, lr, iteration):\n",
    "    w = np.zeros((1, x.shape[1]))\n",
    "    for i in range(iteration):\n",
    "        y_prob, L = forward(x, y, w) \n",
    "        dw = backward(y_prob, y, x)        \n",
    "        w = w - lr*dw           #Standard GD\n",
    "        if i%250 == 0:\n",
    "            print(\"epoch:{} loss:{}\".format(i,L))\n",
    "    return w"
   ]
  },
  {
   "cell_type": "code",
   "execution_count": null,
   "metadata": {},
   "outputs": [],
   "source": [
    "accuracy_list = []\n",
    "precision_list = []\n",
    "recall_list = []\n",
    "\n",
    "# ----- Q3:Folder 1 ----- #\n",
    "x_train = emails.iloc[1000:,:-1]\n",
    "x_test = emails.iloc[:1000,:-1]\n",
    "y_train = emails.iloc[1000:,-1:]\n",
    "y_test = emails.iloc[:1000,-1:]\n",
    "\n",
    "w1 = train(x_train, y_train, 0.001, 2500)\n",
    "y_hat = sigmoid(np.dot(x_test, w1.T))\n",
    "y_hat[y_hat>=0.5] = 1\n",
    "y_hat[y_hat<.5] = 0\n",
    "\n",
    "report1 = report_knn(y_hat,y_test)\n",
    "print(report1.accuracy,report1.precision,report1.recall)"
   ]
  },
  {
   "cell_type": "code",
   "execution_count": null,
   "metadata": {},
   "outputs": [],
   "source": [
    "accuracy_list.append(report1.accuracy)\n",
    "precision_list.append(report1.precision)\n",
    "recall_list.append(report1.recall)"
   ]
  },
  {
   "cell_type": "code",
   "execution_count": null,
   "metadata": {},
   "outputs": [],
   "source": [
    "# ----- Q3:Folder 2 ----- #\n",
    "x_train = pd.concat([emails.iloc[:1000,:-1],emails.iloc[2000:,:-1]])\n",
    "x_test = emails.iloc[1000:2000,:-1]\n",
    "y_train = pd.concat([emails.iloc[:1000,-1:],emails.iloc[2000:,-1:]])\n",
    "y_test = emails.iloc[1000:2000,-1:]\n",
    "\n",
    "w2 = train(x_train, y_train, 0.001, 2500)\n",
    "y_hat = sigmoid(np.dot(x_test, w2.T))\n",
    "y_hat[y_hat>=0.5] = 1\n",
    "y_hat[y_hat<.5] = 0\n",
    "\n",
    "report2 = report_knn(y_hat,y_test)\n",
    "print(report2.accuracy,report2.precision,report2.recall)\n",
    "\n",
    "accuracy_list.append(report2.accuracy)\n",
    "precision_list.append(report2.precision)\n",
    "recall_list.append(report2.recall)"
   ]
  },
  {
   "cell_type": "code",
   "execution_count": null,
   "metadata": {},
   "outputs": [],
   "source": [
    "# ----- Q3:Folder 3 ----- #\n",
    "x_train = pd.concat([emails.iloc[:2000,:-1],emails.iloc[3000:,:-1]])\n",
    "x_test = emails.iloc[2000:3000,:-1]\n",
    "y_train = pd.concat([emails.iloc[:2000,-1:],emails.iloc[3000:,-1:]])\n",
    "y_test = emails.iloc[2000:3000,-1:]\n",
    "\n",
    "w3 = train(x_train, y_train, 0.001, 2500)\n",
    "y_hat = sigmoid(np.dot(x_test, w3.T))\n",
    "y_hat[y_hat>=0.5] = 1\n",
    "y_hat[y_hat<.5] = 0\n",
    "\n",
    "report3 = report_knn(y_hat,y_test)\n",
    "print(report3.accuracy,report3.precision,report3.recall)\n",
    "\n",
    "accuracy_list.append(report3.accuracy)\n",
    "precision_list.append(report3.precision)\n",
    "recall_list.append(report3.recall)"
   ]
  },
  {
   "cell_type": "code",
   "execution_count": null,
   "metadata": {},
   "outputs": [],
   "source": [
    "# ----- Q3:Folder 4 ----- #\n",
    "x_train = pd.concat([emails.iloc[:3000,:-1],emails.iloc[4000:,:-1]])\n",
    "x_test = emails.iloc[3000:4000,:-1]\n",
    "y_train = pd.concat([emails.iloc[:3000,-1:],emails.iloc[4000:,-1:]])\n",
    "y_test = emails.iloc[3000:4000,-1:]\n",
    "\n",
    "w4 = train(x_train, y_train, 0.001, 2500)\n",
    "y_hat = sigmoid(np.dot(x_test, w4.T))\n",
    "y_hat[y_hat>=0.5] = 1\n",
    "y_hat[y_hat<.5] = 0\n",
    "\n",
    "report4 = report_knn(y_hat,y_test)\n",
    "print(report4.accuracy,report4.precision,report4.recall)\n",
    "\n",
    "accuracy_list.append(report4.accuracy)\n",
    "precision_list.append(report4.precision)\n",
    "recall_list.append(report4.recall)"
   ]
  },
  {
   "cell_type": "code",
   "execution_count": null,
   "metadata": {},
   "outputs": [],
   "source": [
    "# ----- Q3:Folder 5 ----- #\n",
    "x_train = emails.iloc[:4000,:-1]\n",
    "x_test = emails.iloc[4000:,:-1]\n",
    "y_train = emails.iloc[:4000,-1:]\n",
    "y_test = emails.iloc[4000:,-1:]\n",
    "\n",
    "w5 = train(x_train, y_train, 0.001, 2500)\n",
    "y_hat = sigmoid(np.dot(x_test, w5.T))\n",
    "y_hat[y_hat>=0.5] = 1\n",
    "y_hat[y_hat<.5] = 0\n",
    "\n",
    "report5 = report_knn(y_hat,y_test)\n",
    "print(report5.accuracy,report5.precision,report5.recall)\n",
    "\n",
    "accuracy_list.append(report5.accuracy)\n",
    "precision_list.append(report5.precision)\n",
    "recall_list.append(report5.recall)"
   ]
  },
  {
   "cell_type": "code",
   "execution_count": null,
   "metadata": {},
   "outputs": [],
   "source": [
    "print(accuracy_list,precision_list,recall_list)\n",
    "# ----- Q3:ends ----- #"
   ]
  },
  {
   "cell_type": "code",
   "execution_count": null,
   "metadata": {},
   "outputs": [],
   "source": [
    "accuracy_list1=[]\n",
    "accuracy_list3=[]\n",
    "accuracy_list5=[]\n",
    "accuracy_list7=[]\n",
    "accuracy_list10=[]"
   ]
  },
  {
   "cell_type": "code",
   "execution_count": null,
   "metadata": {},
   "outputs": [],
   "source": [
    "# ----- Q4:KNN Folder1 ----- #\n",
    "x_train = emails.iloc[1000:,:-1]\n",
    "x_test = emails.iloc[:1000,:-1]\n",
    "y_train = emails.iloc[1000:,-1:]\n",
    "y_test = emails.iloc[:1000,-1:]\n",
    "\n",
    "y_hat = []\n",
    "for i in range(y_test.shape[0]):\n",
    "    y_hat.append(predict_knn(x_train,x_test.iloc[i,:],1,y_train))\n",
    "y_hat = np.array(y_hat)\n",
    "y_hat = y_hat.reshape(len(y_hat),1)\n",
    "report1 = report_knn(y_hat,y_test)\n",
    "accuracy_list1.append(report1.accuracy)\n",
    "print(report1.accuracy)"
   ]
  },
  {
   "cell_type": "code",
   "execution_count": null,
   "metadata": {},
   "outputs": [],
   "source": [
    "\n",
    "\n",
    "y_hat = []\n",
    "for i in range(y_test.shape[0]):\n",
    "    y_hat.append(predict_knn(x_train,x_test.iloc[i,:],3,y_train))\n",
    "y_hat = np.array(y_hat)\n",
    "y_hat = y_hat.reshape(len(y_hat),1)\n",
    "report3 = report_knn(y_hat,y_test)\n",
    "accuracy_list3.append(report3.accuracy)\n",
    "print(report3.accuracy)"
   ]
  },
  {
   "cell_type": "code",
   "execution_count": null,
   "metadata": {},
   "outputs": [],
   "source": [
    "y_hat = []\n",
    "for i in range(y_test.shape[0]):\n",
    "    y_hat.append(predict_knn(x_train,x_test.iloc[i,:],5,y_train))\n",
    "y_hat = np.array(y_hat)\n",
    "y_hat = y_hat.reshape(len(y_hat),1)\n",
    "report5 = report_knn(y_hat,y_test)\n",
    "accuracy_list5.append(report5.accuracy)\n",
    "print(report5.accuracy)"
   ]
  },
  {
   "cell_type": "code",
   "execution_count": null,
   "metadata": {},
   "outputs": [],
   "source": [
    "y_hat = []\n",
    "for i in range(y_test.shape[0]):\n",
    "    y_hat.append(predict_knn(x_train,x_test.iloc[i,:],7,y_train))\n",
    "y_hat = np.array(y_hat)\n",
    "y_hat = y_hat.reshape(len(y_hat),1)\n",
    "report7 = report_knn(y_hat,y_test)\n",
    "accuracy_list7.append(report7.accuracy)\n",
    "print(report7.accuracy)"
   ]
  },
  {
   "cell_type": "code",
   "execution_count": null,
   "metadata": {},
   "outputs": [],
   "source": [
    "y_hat = []\n",
    "for i in range(y_test.shape[0]):\n",
    "    y_hat.append(predict_knn(x_train,x_test.iloc[i,:],10,y_train))\n",
    "y_hat = np.array(y_hat)\n",
    "y_hat = y_hat.reshape(len(y_hat),1)\n",
    "report10 = report_knn(y_hat,y_test)\n",
    "accuracy_list10.append(report10.accuracy)\n",
    "print(report10.accuracy)"
   ]
  },
  {
   "cell_type": "code",
   "execution_count": null,
   "metadata": {},
   "outputs": [],
   "source": [
    "# ----- Q4:KNN Folder2 ----- #\n",
    "x_train = pd.concat([emails.iloc[:1000,:-1],emails.iloc[2000:,:-1]])\n",
    "x_test = emails.iloc[1000:2000,:-1]\n",
    "y_train = pd.concat([emails.iloc[:1000,-1:],emails.iloc[2000:,-1:]])\n",
    "y_test = emails.iloc[1000:2000,-1:]\n",
    "\n",
    "y_hat = []\n",
    "for i in range(y_test.shape[0]):\n",
    "    y_hat.append(predict_knn(x_train,x_test.iloc[i,:],1,y_train))\n",
    "y_hat = np.array(y_hat)\n",
    "y_hat = y_hat.reshape(len(y_hat),1)\n",
    "report1 = report_knn(y_hat,y_test)\n",
    "accuracy_list1.append(report1.accuracy)\n",
    "print(report1.accuracy)"
   ]
  },
  {
   "cell_type": "code",
   "execution_count": null,
   "metadata": {},
   "outputs": [],
   "source": [
    "y_hat = []\n",
    "for i in range(y_test.shape[0]):\n",
    "    y_hat.append(predict_knn(x_train,x_test.iloc[i,:],3,y_train))\n",
    "y_hat = np.array(y_hat)\n",
    "y_hat = y_hat.reshape(len(y_hat),1)\n",
    "report3 = report_knn(y_hat,y_test)\n",
    "accuracy_list3.append(report3.accuracy)\n",
    "print(report3.accuracy)"
   ]
  },
  {
   "cell_type": "code",
   "execution_count": null,
   "metadata": {},
   "outputs": [],
   "source": [
    "y_hat = []\n",
    "for i in range(y_test.shape[0]):\n",
    "    y_hat.append(predict_knn(x_train,x_test.iloc[i,:],5,y_train))\n",
    "y_hat = np.array(y_hat)\n",
    "y_hat = y_hat.reshape(len(y_hat),1)\n",
    "report5 = report_knn(y_hat,y_test)\n",
    "accuracy_list5.append(report5.accuracy)\n",
    "print(report5.accuracy)"
   ]
  },
  {
   "cell_type": "code",
   "execution_count": null,
   "metadata": {},
   "outputs": [],
   "source": [
    "y_hat = []\n",
    "for i in range(y_test.shape[0]):\n",
    "    y_hat.append(predict_knn(x_train,x_test.iloc[i,:],7,y_train))\n",
    "y_hat = np.array(y_hat)\n",
    "y_hat = y_hat.reshape(len(y_hat),1)\n",
    "report7 = report_knn(y_hat,y_test)\n",
    "accuracy_list7.append(report7.accuracy)\n",
    "print(report7.accuracy)"
   ]
  },
  {
   "cell_type": "code",
   "execution_count": null,
   "metadata": {},
   "outputs": [],
   "source": [
    "y_hat = []\n",
    "for i in range(y_test.shape[0]):\n",
    "    y_hat.append(predict_knn(x_train,x_test.iloc[i,:],10,y_train))\n",
    "y_hat = np.array(y_hat)\n",
    "y_hat = y_hat.reshape(len(y_hat),1)\n",
    "report10 = report_knn(y_hat,y_test)\n",
    "accuracy_list10.append(report10.accuracy)\n",
    "print(report10.accuracy)"
   ]
  },
  {
   "cell_type": "code",
   "execution_count": null,
   "metadata": {},
   "outputs": [],
   "source": [
    "# ----- Q4:KNN Folder3 ----- #\n",
    "x_train = pd.concat([emails.iloc[:2000,:-1],emails.iloc[3000:,:-1]])\n",
    "x_test = emails.iloc[2000:3000,:-1]\n",
    "y_train = pd.concat([emails.iloc[:2000,-1:],emails.iloc[3000:,-1:]])\n",
    "y_test = emails.iloc[2000:3000,-1:]\n",
    "\n",
    "y_hat = []\n",
    "for i in range(y_test.shape[0]):\n",
    "    y_hat.append(predict_knn(x_train,x_test.iloc[i,:],1,y_train))\n",
    "y_hat = np.array(y_hat)\n",
    "y_hat = y_hat.reshape(len(y_hat),1)\n",
    "report1 = report_knn(y_hat,y_test)\n",
    "accuracy_list1.append(report1.accuracy)\n",
    "print(report1.accuracy)"
   ]
  },
  {
   "cell_type": "code",
   "execution_count": null,
   "metadata": {},
   "outputs": [],
   "source": [
    "y_hat = []\n",
    "for i in range(y_test.shape[0]):\n",
    "    y_hat.append(predict_knn(x_train,x_test.iloc[i,:],3,y_train))\n",
    "y_hat = np.array(y_hat)\n",
    "y_hat = y_hat.reshape(len(y_hat),1)\n",
    "report3 = report_knn(y_hat,y_test)\n",
    "accuracy_list3.append(report3.accuracy)\n",
    "print(report3.accuracy)"
   ]
  },
  {
   "cell_type": "code",
   "execution_count": null,
   "metadata": {},
   "outputs": [],
   "source": [
    "y_hat = []\n",
    "for i in range(y_test.shape[0]):\n",
    "    y_hat.append(predict_knn(x_train,x_test.iloc[i,:],5,y_train))\n",
    "y_hat = np.array(y_hat)\n",
    "y_hat = y_hat.reshape(len(y_hat),1)\n",
    "report5 = report_knn(y_hat,y_test)\n",
    "accuracy_list5.append(report5.accuracy)\n",
    "print(report5.accuracy)"
   ]
  },
  {
   "cell_type": "code",
   "execution_count": null,
   "metadata": {},
   "outputs": [],
   "source": [
    "y_hat = []\n",
    "for i in range(y_test.shape[0]):\n",
    "    y_hat.append(predict_knn(x_train,x_test.iloc[i,:],7,y_train))\n",
    "y_hat = np.array(y_hat)\n",
    "y_hat = y_hat.reshape(len(y_hat),1)\n",
    "report7 = report_knn(y_hat,y_test)\n",
    "accuracy_list7.append(report7.accuracy)\n",
    "print(report7.accuracy)"
   ]
  },
  {
   "cell_type": "code",
   "execution_count": null,
   "metadata": {},
   "outputs": [],
   "source": [
    "y_hat = []\n",
    "for i in range(y_test.shape[0]):\n",
    "    y_hat.append(predict_knn(x_train,x_test.iloc[i,:],10,y_train))\n",
    "y_hat = np.array(y_hat)\n",
    "y_hat = y_hat.reshape(len(y_hat),1)\n",
    "report10 = report_knn(y_hat,y_test)\n",
    "accuracy_list10.append(report10.accuracy)\n",
    "print(report10.accuracy)"
   ]
  },
  {
   "cell_type": "code",
   "execution_count": null,
   "metadata": {},
   "outputs": [],
   "source": [
    "# ----- Q4:1NN Folder4 ----- #\n",
    "x_train = pd.concat([emails.iloc[:3000,:-1],emails.iloc[4000:,:-1]])\n",
    "x_test = emails.iloc[3000:4000,:-1]\n",
    "y_train = pd.concat([emails.iloc[:3000,-1:],emails.iloc[4000:,-1:]])\n",
    "y_test = emails.iloc[3000:4000,-1:]\n",
    "\n",
    "y_hat = []\n",
    "for i in range(y_test.shape[0]):\n",
    "    y_hat.append(predict_knn(x_train,x_test.iloc[i,:],1,y_train))\n",
    "y_hat = np.array(y_hat)\n",
    "y_hat = y_hat.reshape(len(y_hat),1)\n",
    "report1 = report_knn(y_hat,y_test)\n",
    "accuracy_list1.append(report1.accuracy)\n",
    "print(report1.accuracy)"
   ]
  },
  {
   "cell_type": "code",
   "execution_count": null,
   "metadata": {},
   "outputs": [],
   "source": [
    "y_hat = []\n",
    "for i in range(y_test.shape[0]):\n",
    "    y_hat.append(predict_knn(x_train,x_test.iloc[i,:],3,y_train))\n",
    "y_hat = np.array(y_hat)\n",
    "y_hat = y_hat.reshape(len(y_hat),1)\n",
    "report3 = report_knn(y_hat,y_test)\n",
    "accuracy_list3.append(report3.accuracy)\n",
    "print(report3.accuracy)"
   ]
  },
  {
   "cell_type": "code",
   "execution_count": null,
   "metadata": {},
   "outputs": [],
   "source": [
    "y_hat = []\n",
    "for i in range(y_test.shape[0]):\n",
    "    y_hat.append(predict_knn(x_train,x_test.iloc[i,:],5,y_train))\n",
    "y_hat = np.array(y_hat)\n",
    "y_hat = y_hat.reshape(len(y_hat),1)\n",
    "report5 = report_knn(y_hat,y_test)\n",
    "accuracy_list5.append(report5.accuracy)\n",
    "print(report5.accuracy)"
   ]
  },
  {
   "cell_type": "code",
   "execution_count": null,
   "metadata": {},
   "outputs": [],
   "source": [
    "y_hat = []\n",
    "for i in range(y_test.shape[0]):\n",
    "    y_hat.append(predict_knn(x_train,x_test.iloc[i,:],7,y_train))\n",
    "y_hat = np.array(y_hat)\n",
    "y_hat = y_hat.reshape(len(y_hat),1)\n",
    "report7 = report_knn(y_hat,y_test)\n",
    "accuracy_list7.append(report7.accuracy)\n",
    "print(report7.accuracy)"
   ]
  },
  {
   "cell_type": "code",
   "execution_count": null,
   "metadata": {},
   "outputs": [],
   "source": [
    "y_hat = []\n",
    "for i in range(y_test.shape[0]):\n",
    "    y_hat.append(predict_knn(x_train,x_test.iloc[i,:],10,y_train))\n",
    "y_hat = np.array(y_hat)\n",
    "y_hat = y_hat.reshape(len(y_hat),1)\n",
    "report10 = report_knn(y_hat,y_test)\n",
    "accuracy_list10.append(report10.accuracy)\n",
    "print(report10.accuracy)"
   ]
  },
  {
   "cell_type": "code",
   "execution_count": null,
   "metadata": {},
   "outputs": [],
   "source": [
    "\n",
    "# ----- Q4:KNN Folder5 ----- #\n",
    "x_train = emails.iloc[:4000,:-1]\n",
    "x_test = emails.iloc[4000:,:-1]\n",
    "y_train = emails.iloc[:4000,-1:]\n",
    "y_test = emails.iloc[4000:,-1:]\n",
    "\n",
    "y_hat = []\n",
    "for i in range(y_test.shape[0]):\n",
    "    y_hat.append(predict_knn(x_train,x_test.iloc[i,:],1,y_train))\n",
    "y_hat = np.array(y_hat)\n",
    "y_hat = y_hat.reshape(len(y_hat),1)\n",
    "report1 = report_knn(y_hat,y_test)\n",
    "accuracy_list1.append(report1.accuracy)\n",
    "print(report1.accuracy)"
   ]
  },
  {
   "cell_type": "code",
   "execution_count": null,
   "metadata": {},
   "outputs": [],
   "source": [
    "y_hat = []\n",
    "for i in range(y_test.shape[0]):\n",
    "    y_hat.append(predict_knn(x_train,x_test.iloc[i,:],3,y_train))\n",
    "y_hat = np.array(y_hat)\n",
    "y_hat = y_hat.reshape(len(y_hat),1)\n",
    "report3 = report_knn(y_hat,y_test)\n",
    "accuracy_list3.append(report3.accuracy)\n",
    "print(report3.accuracy)"
   ]
  },
  {
   "cell_type": "code",
   "execution_count": null,
   "metadata": {},
   "outputs": [],
   "source": [
    "y_hat = []\n",
    "for i in range(y_test.shape[0]):\n",
    "    y_hat.append(predict_knn(x_train,x_test.iloc[i,:],5,y_train))\n",
    "y_hat = np.array(y_hat)\n",
    "y_hat = y_hat.reshape(len(y_hat),1)\n",
    "report5 = report_knn(y_hat,y_test)\n",
    "accuracy_list5.append(report5.accuracy)\n",
    "print(report5.accuracy)"
   ]
  },
  {
   "cell_type": "code",
   "execution_count": null,
   "metadata": {},
   "outputs": [],
   "source": [
    "y_hat = []\n",
    "for i in range(y_test.shape[0]):\n",
    "    y_hat.append(predict_knn(x_train,x_test.iloc[i,:],7,y_train))\n",
    "y_hat = np.array(y_hat)\n",
    "y_hat = y_hat.reshape(len(y_hat),1)\n",
    "report7 = report_knn(y_hat,y_test)\n",
    "accuracy_list7.append(report7.accuracy)\n",
    "print(report7.accuracy)"
   ]
  },
  {
   "cell_type": "code",
   "execution_count": null,
   "metadata": {},
   "outputs": [],
   "source": [
    "y_hat = []\n",
    "for i in range(y_test.shape[0]):\n",
    "    y_hat.append(predict_knn(x_train,x_test.iloc[i,:],10,y_train))\n",
    "y_hat = np.array(y_hat)\n",
    "y_hat = y_hat.reshape(len(y_hat),1)\n",
    "report10 = report_knn(y_hat,y_test)\n",
    "accuracy_list10.append(report10.accuracy)\n",
    "print(report10.accuracy)"
   ]
  },
  {
   "cell_type": "code",
   "execution_count": null,
   "metadata": {},
   "outputs": [],
   "source": [
    "print(accuracy_list1,accuracy_list3,accuracy_list5,accuracy_list7,accuracy_list10)"
   ]
  },
  {
   "cell_type": "code",
   "execution_count": null,
   "metadata": {},
   "outputs": [],
   "source": [
    "# plot Q4 results\n",
    "mean_list = [np.mean(accuracy_list1), np.mean(accuracy_list3), \n",
    "             np.mean(accuracy_list5), np.mean(accuracy_list7),np.mean(accuracy_list10)]\n",
    "print(mean_list)\n",
    "k_no = [1,3,5,7,10]\n",
    "plt.figure(2)\n",
    "plt.plot(k_no,mean_list)\n",
    "plt.scatter(k_no,mean_list,marker='o',s=20)\n",
    "plt.grid()\n",
    "plt.xlabel('K')\n",
    "plt.ylabel('Average Accuracy')\n",
    "plt.title('kNN 5-Fold Cross validation')\n",
    "# ----- Q4:ends ----- #"
   ]
  },
  {
   "cell_type": "code",
   "execution_count": null,
   "metadata": {},
   "outputs": [],
   "source": [
    "# ----- Q5:ROC 5NN vs logistic ----- #\n",
    "\n",
    "#single set\n",
    "x_train = emails.iloc[1000:,:-1]\n",
    "x_test = emails.iloc[:1000,:-1]\n",
    "y_train = emails.iloc[1000:,-1:]\n",
    "y_test = emails.iloc[:1000,-1:]\n"
   ]
  },
  {
   "cell_type": "code",
   "execution_count": null,
   "metadata": {},
   "outputs": [],
   "source": [
    "w = train(x_train, y_train, 0.001, 2500)\n",
    "y_hat = sigmoid(np.dot(x_test, w.T))"
   ]
  },
  {
   "cell_type": "code",
   "execution_count": null,
   "metadata": {},
   "outputs": [],
   "source": [
    "\n",
    "TPR_logistic=[0]\n",
    "FPR_logistic=[0]\n",
    "# logistic training and eval\n",
    "for classifier in np.arange(0,1,0.01):\n",
    "    tmp = y_hat.copy()\n",
    "    tmp[tmp>=classifier]=1\n",
    "    tmp[tmp<classifier]=0\n",
    "    rpt1 = report_knn(tmp,y_test)\n",
    "    TPR_logistic.append(rpt1.recall)\n",
    "    FPR_logistic.append(rpt1.fpr)\n",
    "\n",
    "TPR_logistic.sort()\n",
    "FPR_logistic.sort()"
   ]
  },
  {
   "cell_type": "code",
   "execution_count": null,
   "metadata": {},
   "outputs": [],
   "source": [
    "TPR_KNN=[0]\n",
    "FPR_KNN=[0]\n",
    "# 5NN training and eval\n",
    "for t in np.arange(0,1,0.1):\n",
    "    y_hat = np.ones(y_test.shape)\n",
    "    for i in range(x_test.shape[0]):\n",
    "        prob = predict_knn(x_train,x_test.iloc[i,:],5,y_train,1)\n",
    "        if prob >= t:\n",
    "            y_hat[i] = 1\n",
    "        else:\n",
    "            y_hat[i] = 0\n",
    "    rpt2 = report_knn(y_hat,y_test)\n",
    "    TPR_KNN.append(rpt2.recall)\n",
    "    FPR_KNN.append(rpt2.fpr)\n",
    "FPR_KNN.sort()\n",
    "TPR_KNN.sort()"
   ]
  },
  {
   "cell_type": "code",
   "execution_count": null,
   "metadata": {},
   "outputs": [],
   "source": [
    "plt.figure(3)   \n",
    "plt.plot(FPR_KNN, TPR_KNN)    \n",
    "plt.plot(FPR_logistic, TPR_logistic)\n",
    "plt.xlabel('False Positive Rate(Positive label:1)')\n",
    "plt.ylabel('True Positive Rate(Positive label:1)')\n",
    "plt.legend(labels=['5NNClassifier', 'LogisticRegression'])\n",
    "plt.grid()\n",
    "# ----- Q5:ends ----- #"
   ]
  }
 ],
 "metadata": {
  "kernelspec": {
   "display_name": "Python 3",
   "language": "python",
   "name": "python3"
  },
  "language_info": {
   "codemirror_mode": {
    "name": "ipython",
    "version": 3
   },
   "file_extension": ".py",
   "mimetype": "text/x-python",
   "name": "python",
   "nbconvert_exporter": "python",
   "pygments_lexer": "ipython3",
   "version": "3.10.6"
  },
  "orig_nbformat": 4,
  "vscode": {
   "interpreter": {
    "hash": "7e1998ff7f8aa20ada591c520b972326324e5ea05489af9e422744c7c09f6dad"
   }
  }
 },
 "nbformat": 4,
 "nbformat_minor": 2
}
