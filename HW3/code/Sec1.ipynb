{
 "cells": [
  {
   "cell_type": "code",
   "execution_count": null,
   "metadata": {},
   "outputs": [],
   "source": [
    "import matplotlib.pyplot as plt\n",
    "import numpy as np\n",
    "\n",
    "\n",
    "TPR = np.array([0,0.5,0.5, 2/3, 2/3, 5/6,5/6, 1])\n",
    "FPR = np.array([0,0,1/4, 1/4,1/2, 1/2,3/4, 3/4])\n",
    "\n",
    "dist = [pow(j,2)+pow(i-1, 2) for i,j in zip(TPR,FPR)] \n",
    "min_i = dist.index(min(dist))   \n",
    "print(min_i)\n",
    "\n",
    "plt.plot(FPR, TPR)\n",
    "plt.scatter(FPR,TPR)\n",
    "plt.scatter([0,FPR[min_i]], [1,TPR[min_i]], color = 'red')\n",
    "plt.plot([0,FPR[min_i]], [1,TPR[min_i]], color = 'red', linestyle = \"-.\")\n",
    "plt.plot([0,0.5], [0.5,1], color = 'green',linestyle = \"--\")\n",
    "plt.xlabel(\"FPR\")\n",
    "plt.ylabel(\"TPR\")\n",
    "plt.xlim(-0.1,1)\n",
    "plt.ylim(-0.1,1)\n"
   ]
  }
 ],
 "metadata": {
  "kernelspec": {
   "display_name": "Python 3",
   "language": "python",
   "name": "python3"
  },
  "language_info": {
   "codemirror_mode": {
    "name": "ipython",
    "version": 3
   },
   "file_extension": ".py",
   "mimetype": "text/x-python",
   "name": "python",
   "nbconvert_exporter": "python",
   "pygments_lexer": "ipython3",
   "version": "3.10.6"
  },
  "orig_nbformat": 4,
  "vscode": {
   "interpreter": {
    "hash": "7e1998ff7f8aa20ada591c520b972326324e5ea05489af9e422744c7c09f6dad"
   }
  }
 },
 "nbformat": 4,
 "nbformat_minor": 2
}
