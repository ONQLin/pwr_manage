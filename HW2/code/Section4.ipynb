{
 "cells": [
  {
   "cell_type": "code",
   "execution_count": 4,
   "metadata": {},
   "outputs": [
    {
     "name": "stdout",
     "output_type": "stream",
     "text": [
      "[9.55597230952476e+32, 2.0409251137175966e+67, 6.698767886641887e+55, 9.348294509473648e+52] [0.0, 0.14461660357133974, 0.3432431188632449, 0.6624656963963094]\n"
     ]
    }
   ],
   "source": [
    "import numpy as np\n",
    "import matplotlib.pyplot as plt\n",
    "\n",
    "# Lagrange Interpolation L(x)\n",
    "def Lagrange(test, x_train, y_train):\n",
    "    y_test= []\n",
    "    for item in test:\n",
    "        sum = 0\n",
    "        for j in range(len(y_train)):\n",
    "            tmp = 1\n",
    "            for i in range(len(x_train)):\n",
    "                if i != j:\n",
    "                    tmp = tmp * (item-x_train[i])/(x_train[j]-x_train[i]) # Lagrange basis\n",
    "            tmp = tmp * y_train[j]\n",
    "            sum += tmp\n",
    "        y_test.append(sum)\n",
    "    return y_test\n",
    "\n",
    "n = 100\n",
    "mu,sigma = 0,np.pi/6\n",
    "MSE_test = []\n",
    "MSE_train = []\n",
    "\n",
    "# xi from uniform distribution\n",
    "x_uni = np.random.uniform(0, 2*np.pi,n)\n",
    "# Gaussian distribution\n",
    "epsilon = np.random.normal(mu, sigma, n)\n",
    "# for testing dataset \n",
    "y_uni = np.sin(x_uni)\n",
    "plt.figure(1)\n",
    "plt.subplot(2,2,1)\n",
    "#---- no noise case ----\n",
    "test_x = np.random.uniform(0, 2*np.pi,n)\n",
    "y_predict = Lagrange(test_x, x_uni, y_uni)\n",
    "val_y = np.sin(test_x)\n",
    "MSE_test.append(((y_predict-val_y)**2).sum()/len(y_predict))\n",
    "\n",
    "y_train = Lagrange(x_uni, x_uni, y_uni)\n",
    "val_y = np.sin(x_uni)\n",
    "MSE_train.append(((y_train-val_y)**2).sum()/len(y_predict))\n",
    "\n",
    "#---- sigma=pi/6 case ----\n",
    "test_x = np.random.uniform(0, 2*np.pi,n)\n",
    "train_x = x_uni + epsilon # noise on trainset xi only\n",
    "y_predict = Lagrange(test_x, train_x, y_uni)\n",
    "val_y = np.sin(test_x)\n",
    "MSE_test.append(((y_predict-val_y)**2).sum()/len(y_predict))\n",
    "\n",
    "y_train = Lagrange(train_x, train_x, y_uni)\n",
    "val_y = np.sin(train_x)\n",
    "MSE_train.append(((y_train-val_y)**2).sum()/len(y_predict))\n",
    "\n",
    "#---- sigma=pi/4 case ----\n",
    "epsilon = np.random.normal(mu, np.pi/4, n)\n",
    "test_x = np.random.uniform(0, 2*np.pi,n)\n",
    "train_x = x_uni + epsilon # noise on trainset xi only\n",
    "y_predict = Lagrange(test_x, train_x, y_uni)\n",
    "val_y = np.sin(test_x)\n",
    "MSE_test.append(((y_predict-val_y)**2).sum()/len(y_predict))\n",
    "\n",
    "y_train = Lagrange(train_x, train_x, y_uni)\n",
    "val_y = np.sin(train_x)\n",
    "MSE_train.append(((y_train-val_y)**2).sum()/len(y_predict))\n",
    "\n",
    "#---- sigma=pi/2 case ----\n",
    "epsilon = np.random.normal(mu, np.pi/2, n)\n",
    "test_x = np.random.uniform(0, 2*np.pi,n)\n",
    "train_x = x_uni + epsilon # noise on trainset xi only\n",
    "y_predict = Lagrange(test_x, train_x, y_uni)\n",
    "val_y = np.sin(test_x)\n",
    "MSE_test.append(((y_predict-val_y)**2).sum()/len(y_predict))\n",
    "\n",
    "y_train = Lagrange(train_x, train_x, y_uni)\n",
    "val_y = np.sin(train_x)\n",
    "MSE_train.append(((y_train-val_y)**2).sum()/len(y_predict))\n",
    "\n",
    "print(MSE_test, MSE_train)"
   ]
  }
 ],
 "metadata": {
  "kernelspec": {
   "display_name": "Python 3",
   "language": "python",
   "name": "python3"
  },
  "language_info": {
   "codemirror_mode": {
    "name": "ipython",
    "version": 3
   },
   "file_extension": ".py",
   "mimetype": "text/x-python",
   "name": "python",
   "nbconvert_exporter": "python",
   "pygments_lexer": "ipython3",
   "version": "3.10.6"
  },
  "orig_nbformat": 4,
  "vscode": {
   "interpreter": {
    "hash": "7e1998ff7f8aa20ada591c520b972326324e5ea05489af9e422744c7c09f6dad"
   }
  }
 },
 "nbformat": 4,
 "nbformat_minor": 2
}
