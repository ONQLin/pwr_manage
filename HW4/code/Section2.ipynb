{
 "cells": [
  {
   "cell_type": "code",
   "execution_count": 75,
   "metadata": {},
   "outputs": [],
   "source": [
    "import numpy as np\n",
    "import pandas as pd\n",
    "\n",
    "class LangId:\n",
    "    def __init__(self,smooth = 0.5):\n",
    "        self.smooth = smooth\n",
    "        alpha_dict = {\"a\":0, \"b\":0, \"c\":0, \"d\":0, \"e\":0, \"f\":0, \"g\":0, \"h\":0, \"i\":0, \"j\":0, \"k\":0, \"l\":0, \"m\":0, \n",
    "        \"n\":0, \"o\":0, \"p\":0, \"q\":0, \"r\":0, \"s\":0, \"t\":0, \"u\":0, \"v\":0, \"w\":0, \"x\":0, \"y\":0, \"z\":0, \" \":0}\n",
    "        self.alpha = pd.DataFrame(alpha_dict,index=['e', 'j', 's']) \n",
    "        self.path = \"../languageID/\"\n",
    "        self.train = []\n",
    "        self.test = []\n",
    "        self.lang = np.array(['e','j','s'])\n",
    "        self.prior = np.array([0,0,0]).astype('float')      #before smooth\n",
    "        self.theta = [np.array(27), np.array(27), np.array(27)]   # e j s theta\n",
    "    \n",
    "    def init_sets(self, train_size = [10,10,10]):\n",
    "        for i, lang in enumerate(self.lang):   #e j s\n",
    "            for j in range(0,20):\n",
    "                if(j < train_size[i]):\n",
    "                    self.train.append(lang+str(j)+\".txt\")\n",
    "                else:\n",
    "                    self.test.append(lang+str(j)+\".txt\")\n",
    "    \n",
    "    # ---------- Q1: Estimate the prior probabilities ---------- #            \n",
    "    def get_prior(self):\n",
    "        e = j = s = 0\n",
    "        for set in self.train:\n",
    "            if set.find('e') != -1:\n",
    "                e += 1\n",
    "            elif set.find('j') != -1:\n",
    "                j += 1\n",
    "            elif set.find('s') != -1:\n",
    "                s += 1\n",
    "        denominator = e + j + s + (3*self.smooth)\n",
    "        self.prior[0] = (e+self.smooth)/denominator\n",
    "        self.prior[1] = (j+self.smooth)/denominator\n",
    "        self.prior[2] = (s+self.smooth)/denominator\n",
    "        print(\"The e j s prior probabilities are \", self.prior)\n",
    "        \n",
    "    # ---------- Q2/Q3: Estimate the class conditional probability (multinomial parameter) ---------- # \n",
    "    def get_theta(self):        # get theta_e _j _s\n",
    "        numerator = denominator = np.array([0,0,0]).astype('float')\n",
    "        for set in self.train:\n",
    "            file = open(self.path+set,'r')\n",
    "            index = set[0]      # e j s index\n",
    "            for line in file.readlines():\n",
    "                for c in line:\n",
    "                    if '\\n' in c:\n",
    "                        continue\n",
    "                    else:\n",
    "                        self.alpha.loc[index,c] += 1    #load characters dist in df\n",
    "            file.close()\n",
    "        print(self.alpha)\n",
    "        denominator = self.alpha.apply(lambda x: x.sum(),axis=1) + (27*self.smooth)\n",
    "        print(denominator)\n",
    "        self.alpha += self.smooth\n",
    "        for i in range(0,3):\n",
    "            self.alpha.loc[self.lang[i],:] /= denominator[self.lang[i]]\n",
    "        print(self.alpha)\n",
    "        \n",
    "        \n",
    "            \n",
    "        "
   ]
  },
  {
   "cell_type": "code",
   "execution_count": 76,
   "metadata": {},
   "outputs": [
    {
     "name": "stdout",
     "output_type": "stream",
     "text": [
      "The e j s prior probabilities are  [0.33333333 0.33333333 0.33333333]\n"
     ]
    }
   ],
   "source": [
    "# Q1\n",
    "naive_bayes = LangId()\n",
    "naive_bayes.init_sets()\n",
    "naive_bayes.get_prior()"
   ]
  },
  {
   "cell_type": "code",
   "execution_count": 77,
   "metadata": {},
   "outputs": [
    {
     "name": "stdout",
     "output_type": "stream",
     "text": [
      "      a    b    c    d     e    f    g    h     i    j  ...    r     s     t  \\\n",
      "e   910  168  325  332  1594  286  264  714   838   21  ...  814  1001  1212   \n",
      "j  1885  155   78  246   861   55  200  454  1388   33  ...  612   603   815   \n",
      "s  1695  133  608  644  1845  139  116   73   808  107  ...  961  1066   577   \n",
      "\n",
      "      u    v    w   x    y    z        \n",
      "e   403  140  234  17  209    9  2712  \n",
      "j  1010    3  282   0  202  110  1766  \n",
      "s   546   95    1  40  127   43  2728  \n",
      "\n",
      "[3 rows x 27 columns]\n",
      "e    15132.5\n",
      "j    14309.5\n",
      "s    16215.5\n",
      "dtype: float64\n",
      "          a         b         c         d         e         f         g  \\\n",
      "e  0.060169  0.011135  0.021510  0.021973  0.105369  0.018933  0.017479   \n",
      "j  0.131766  0.010867  0.005486  0.017226  0.060205  0.003879  0.014012   \n",
      "s  0.104560  0.008233  0.037526  0.039746  0.113811  0.008603  0.007184   \n",
      "\n",
      "          h         i         j  ...         r         s         t         u  \\\n",
      "e  0.047216  0.055411  0.001421  ...  0.053825  0.066182  0.080126  0.026664   \n",
      "j  0.031762  0.097033  0.002341  ...  0.042804  0.042175  0.056990  0.070617   \n",
      "s  0.004533  0.049860  0.006629  ...  0.059295  0.065770  0.035614  0.033702   \n",
      "\n",
      "          v         w         x         y         z            \n",
      "e  0.009285  0.015496  0.001156  0.013844  0.000628  0.179250  \n",
      "j  0.000245  0.019742  0.000035  0.014151  0.007722  0.123449  \n",
      "s  0.005889  0.000093  0.002498  0.007863  0.002683  0.168265  \n",
      "\n",
      "[3 rows x 27 columns]\n"
     ]
    }
   ],
   "source": [
    "naive_bayes.get_theta()"
   ]
  },
  {
   "cell_type": "code",
   "execution_count": null,
   "metadata": {},
   "outputs": [],
   "source": [
    "# Q2 Q3\n",
    "theta_e = naive_bayes.alpha.loc['e',:]\n",
    "theta_j = naive_bayes.alpha.loc['j',:]\n",
    "theta_s = naive_bayes.alpha.loc['s',:]\n",
    "print(theta_e)\n",
    "for index, row in theta_j.iteritems():\n",
    "    print(\"{} & {} & {} \\\\\\ \".format(index, theta_j[index], theta_s[index]))    # print with latex format"
   ]
  },
  {
   "cell_type": "code",
   "execution_count": 88,
   "metadata": {},
   "outputs": [
    {
     "name": "stdout",
     "output_type": "stream",
     "text": [
      "{'a': 164, 'b': 32, 'c': 53, 'd': 57, 'e': 311, 'f': 55, 'g': 51, 'h': 140, 'i': 140, 'j': 3, 'k': 6, 'l': 85, 'm': 64, 'n': 139, 'o': 182, 'p': 53, 'q': 3, 'r': 141, 's': 186, 't': 225, 'u': 65, 'v': 31, 'w': 47, 'x': 4, 'y': 38, 'z': 2, ' ': 498}\n"
     ]
    }
   ],
   "source": [
    "# Q4 \n",
    "def get_dist(filename):\n",
    "        alpha_test = {\"a\":0, \"b\":0, \"c\":0, \"d\":0, \"e\":0, \"f\":0, \"g\":0, \"h\":0, \"i\":0, \"j\":0, \"k\":0, \"l\":0, \"m\":0, \n",
    "        \"n\":0, \"o\":0, \"p\":0, \"q\":0, \"r\":0, \"s\":0, \"t\":0, \"u\":0, \"v\":0, \"w\":0, \"x\":0, \"y\":0, \"z\":0, \" \":0}\n",
    "        file = open(naive_bayes.path+filename,'r')\n",
    "        for line in file.readlines():\n",
    "            for c in line:\n",
    "                if '\\n' in c:\n",
    "                    continue\n",
    "                else:\n",
    "                    alpha_test[c] += 1    #load characters dist in df\n",
    "        file.close()\n",
    "        return alpha_test\n",
    "\n",
    "test_dict = get_dist('e10.txt')\n",
    "print(test_dict)"
   ]
  },
  {
   "cell_type": "code",
   "execution_count": 86,
   "metadata": {},
   "outputs": [
    {
     "name": "stdout",
     "output_type": "stream",
     "text": [
      "[-3405.67889149 -3809.38498463 -3677.29386843]\n"
     ]
    }
   ],
   "source": [
    "# Q5\n",
    "def get_loglikelihood(test_dict):\n",
    "        res = np.zeros(3)\n",
    "        for i in range(0,3):\n",
    "            for key in test_dict.keys():\n",
    "                    res[i] += test_dict[key] * np.log10(naive_bayes.alpha.loc[naive_bayes.lang[i],key])   # Sigma log likelihood\n",
    "        return res\n",
    "\n",
    "log_llh = get_loglikelihood(test_dict)\n",
    "print(log_llh)"
   ]
  },
  {
   "cell_type": "code",
   "execution_count": 89,
   "metadata": {},
   "outputs": [
    {
     "name": "stdout",
     "output_type": "stream",
     "text": [
      "[[10.  0.  0.]\n",
      " [ 0. 10.  0.]\n",
      " [ 0.  0. 10.]]\n"
     ]
    }
   ],
   "source": [
    "# Q7\n",
    "conf_matrix = np.zeros((3,3))\n",
    "for col, l in enumerate(naive_bayes.lang):\n",
    "    for i in range(10,20):\n",
    "        res1 = get_dist(l+str(i)+\".txt\")\n",
    "        logll = get_loglikelihood(res1)\n",
    "        row = np.argmax(logll)\n",
    "        conf_matrix[row,col] += 1\n",
    "print(conf_matrix)"
   ]
  },
  {
   "cell_type": "code",
   "execution_count": 91,
   "metadata": {},
   "outputs": [
    {
     "name": "stdout",
     "output_type": "stream",
     "text": [
      "[-3405.67889149 -3809.38498463 -3677.29386843]\n"
     ]
    }
   ],
   "source": [
    "# Q8\n",
    "import random\n",
    "file_test = \"e10.txt\"\n",
    "file = open(naive_bayes.path+file_test,'r')\n",
    "text = list(file.read())\n",
    "random.shuffle(text)\n",
    "shuff_text = ''.join(text)\n",
    "file.close()\n",
    "file_shuffle= open(naive_bayes.path+\"shuffle_e10.txt\",'w')\n",
    "file_shuffle.write(shuff_text)\n",
    "file_shuffle.close()\n",
    "shuffle_res = get_dist(\"shuffle_e10.txt\")\n",
    "log_shuffle = get_loglikelihood(shuffle_res)\n",
    "print(log_shuffle)"
   ]
  }
 ],
 "metadata": {
  "kernelspec": {
   "display_name": "Python 3",
   "language": "python",
   "name": "python3"
  },
  "language_info": {
   "codemirror_mode": {
    "name": "ipython",
    "version": 3
   },
   "file_extension": ".py",
   "mimetype": "text/x-python",
   "name": "python",
   "nbconvert_exporter": "python",
   "pygments_lexer": "ipython3",
   "version": "3.6.5"
  },
  "orig_nbformat": 4
 },
 "nbformat": 4,
 "nbformat_minor": 2
}
